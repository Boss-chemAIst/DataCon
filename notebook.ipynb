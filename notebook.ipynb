{
  "cells": [
    {
      "cell_type": "markdown",
      "metadata": {
        "id": "view-in-github",
        "colab_type": "text"
      },
      "source": [
        "<a href=\"https://colab.research.google.com/github/acid-design-lab/--PRACTICE--DataCon/blob/main/notebook.ipynb\" target=\"_parent\"><img src=\"https://colab.research.google.com/assets/colab-badge.svg\" alt=\"Open In Colab\"/></a>"
      ]
    },
    {
      "cell_type": "code",
      "execution_count": null,
      "metadata": {
        "id": "Gz9SgKXHGd1g",
        "colab": {
          "base_uri": "https://localhost:8080/"
        },
        "outputId": "246bb289-e920-4bab-e569-becac1dd25a9"
      },
      "outputs": [
        {
          "output_type": "stream",
          "name": "stdout",
          "text": [
            "Looking in indexes: https://pypi.org/simple, https://us-python.pkg.dev/colab-wheels/public/simple/\n",
            "Collecting rdkit\n",
            "  Downloading rdkit-2022.9.4-cp38-cp38-manylinux_2_17_x86_64.manylinux2014_x86_64.whl (29.3 MB)\n",
            "\u001b[2K     \u001b[90m━━━━━━━━━━━━━━━━━━━━━━━━━━━━━━━━━━━━━━━━\u001b[0m \u001b[32m29.3/29.3 MB\u001b[0m \u001b[31m49.9 MB/s\u001b[0m eta \u001b[36m0:00:00\u001b[0m\n",
            "\u001b[?25hRequirement already satisfied: Pillow in /usr/local/lib/python3.8/dist-packages (from rdkit) (7.1.2)\n",
            "Requirement already satisfied: numpy in /usr/local/lib/python3.8/dist-packages (from rdkit) (1.21.6)\n",
            "Installing collected packages: rdkit\n",
            "Successfully installed rdkit-2022.9.4\n",
            "Looking in indexes: https://pypi.org/simple, https://us-python.pkg.dev/colab-wheels/public/simple/\n",
            "Requirement already satisfied: torch in /usr/local/lib/python3.8/dist-packages (1.13.1+cu116)\n",
            "Requirement already satisfied: typing-extensions in /usr/local/lib/python3.8/dist-packages (from torch) (4.5.0)\n",
            "Looking in indexes: https://pypi.org/simple, https://us-python.pkg.dev/colab-wheels/public/simple/\n",
            "Collecting allennlp\n",
            "  Downloading allennlp-2.10.1-py3-none-any.whl (730 kB)\n",
            "\u001b[2K     \u001b[90m━━━━━━━━━━━━━━━━━━━━━━━━━━━━━━━━━━━━━━\u001b[0m \u001b[32m730.2/730.2 KB\u001b[0m \u001b[31m41.1 MB/s\u001b[0m eta \u001b[36m0:00:00\u001b[0m\n",
            "\u001b[?25hCollecting spacy<3.4,>=2.1.0\n",
            "  Downloading spacy-3.3.2-cp38-cp38-manylinux_2_17_x86_64.manylinux2014_x86_64.whl (6.5 MB)\n",
            "\u001b[2K     \u001b[90m━━━━━━━━━━━━━━━━━━━━━━━━━━━━━━━━━━━━━━━━\u001b[0m \u001b[32m6.5/6.5 MB\u001b[0m \u001b[31m89.8 MB/s\u001b[0m eta \u001b[36m0:00:00\u001b[0m\n",
            "\u001b[?25hCollecting requests>=2.28\n",
            "  Downloading requests-2.28.2-py3-none-any.whl (62 kB)\n",
            "\u001b[2K     \u001b[90m━━━━━━━━━━━━━━━━━━━━━━━━━━━━━━━━━━━━━━━━\u001b[0m \u001b[32m62.8/62.8 KB\u001b[0m \u001b[31m6.5 MB/s\u001b[0m eta \u001b[36m0:00:00\u001b[0m\n",
            "\u001b[?25hCollecting tensorboardX>=1.2\n",
            "  Downloading tensorboardX-2.6-py2.py3-none-any.whl (114 kB)\n",
            "\u001b[2K     \u001b[90m━━━━━━━━━━━━━━━━━━━━━━━━━━━━━━━━━━━━━━\u001b[0m \u001b[32m114.5/114.5 KB\u001b[0m \u001b[31m15.6 MB/s\u001b[0m eta \u001b[36m0:00:00\u001b[0m\n",
            "\u001b[?25hRequirement already satisfied: scipy>=1.7.3 in /usr/local/lib/python3.8/dist-packages (from allennlp) (1.7.3)\n",
            "Collecting cached-path<1.2.0,>=1.1.3\n",
            "  Downloading cached_path-1.1.6-py3-none-any.whl (26 kB)\n",
            "Collecting base58>=2.1.1\n",
            "  Downloading base58-2.1.1-py3-none-any.whl (5.6 kB)\n",
            "Requirement already satisfied: dill>=0.3.4 in /usr/local/lib/python3.8/dist-packages (from allennlp) (0.3.6)\n",
            "Collecting termcolor==1.1.0\n",
            "  Downloading termcolor-1.1.0.tar.gz (3.9 kB)\n",
            "  Preparing metadata (setup.py) ... \u001b[?25l\u001b[?25hdone\n",
            "Collecting h5py>=3.6.0\n",
            "  Downloading h5py-3.8.0-cp38-cp38-manylinux_2_17_x86_64.manylinux2014_x86_64.whl (4.7 MB)\n",
            "\u001b[2K     \u001b[90m━━━━━━━━━━━━━━━━━━━━━━━━━━━━━━━━━━━━━━━━\u001b[0m \u001b[32m4.7/4.7 MB\u001b[0m \u001b[31m65.2 MB/s\u001b[0m eta \u001b[36m0:00:00\u001b[0m\n",
            "\u001b[?25hCollecting pytest>=6.2.5\n",
            "  Downloading pytest-7.2.1-py3-none-any.whl (317 kB)\n",
            "\u001b[2K     \u001b[90m━━━━━━━━━━━━━━━━━━━━━━━━━━━━━━━━━━━━━━\u001b[0m \u001b[32m317.1/317.1 KB\u001b[0m \u001b[31m34.8 MB/s\u001b[0m eta \u001b[36m0:00:00\u001b[0m\n",
            "\u001b[?25hCollecting wandb<0.13.0,>=0.10.0\n",
            "  Downloading wandb-0.12.21-py2.py3-none-any.whl (1.8 MB)\n",
            "\u001b[2K     \u001b[90m━━━━━━━━━━━━━━━━━━━━━━━━━━━━━━━━━━━━━━━━\u001b[0m \u001b[32m1.8/1.8 MB\u001b[0m \u001b[31m89.8 MB/s\u001b[0m eta \u001b[36m0:00:00\u001b[0m\n",
            "\u001b[?25hCollecting lmdb>=1.2.1\n",
            "  Downloading lmdb-1.4.0-cp38-cp38-manylinux_2_12_x86_64.manylinux2010_x86_64.whl (306 kB)\n",
            "\u001b[2K     \u001b[90m━━━━━━━━━━━━━━━━━━━━━━━━━━━━━━━━━━━━━━\u001b[0m \u001b[32m306.1/306.1 KB\u001b[0m \u001b[31m33.3 MB/s\u001b[0m eta \u001b[36m0:00:00\u001b[0m\n",
            "\u001b[?25hRequirement already satisfied: numpy>=1.21.4 in /usr/local/lib/python3.8/dist-packages (from allennlp) (1.21.6)\n",
            "Collecting jsonnet>=0.10.0\n",
            "  Downloading jsonnet-0.19.1.tar.gz (593 kB)\n",
            "\u001b[2K     \u001b[90m━━━━━━━━━━━━━━━━━━━━━━━━━━━━━━━━━━━━━━\u001b[0m \u001b[32m593.6/593.6 KB\u001b[0m \u001b[31m49.2 MB/s\u001b[0m eta \u001b[36m0:00:00\u001b[0m\n",
            "\u001b[?25h  Preparing metadata (setup.py) ... \u001b[?25l\u001b[?25hdone\n",
            "Collecting huggingface-hub>=0.0.16\n",
            "  Downloading huggingface_hub-0.12.1-py3-none-any.whl (190 kB)\n",
            "\u001b[2K     \u001b[90m━━━━━━━━━━━━━━━━━━━━━━━━━━━━━━━━━━━━━━\u001b[0m \u001b[32m190.3/190.3 KB\u001b[0m \u001b[31m23.5 MB/s\u001b[0m eta \u001b[36m0:00:00\u001b[0m\n",
            "\u001b[?25hRequirement already satisfied: traitlets>5.1.1 in /usr/local/lib/python3.8/dist-packages (from allennlp) (5.7.1)\n",
            "Requirement already satisfied: nltk>=3.6.5 in /usr/local/lib/python3.8/dist-packages (from allennlp) (3.7)\n",
            "Collecting torch<1.13.0,>=1.10.0\n",
            "  Downloading torch-1.12.1-cp38-cp38-manylinux1_x86_64.whl (776.3 MB)\n",
            "\u001b[2K     \u001b[90m━━━━━━━━━━━━━━━━━━━━━━━━━━━━━━━━━━━━━━━\u001b[0m \u001b[32m776.3/776.3 MB\u001b[0m \u001b[31m2.2 MB/s\u001b[0m eta \u001b[36m0:00:00\u001b[0m\n",
            "\u001b[?25h"
          ]
        }
      ],
      "source": [
        "!pip install rdkit\n",
        "!pip install torch\n",
        "!pip install allennlp"
      ]
    },
    {
      "cell_type": "code",
      "execution_count": null,
      "metadata": {
        "colab": {
          "base_uri": "https://localhost:8080/"
        },
        "id": "uubX2cyEG1Nh",
        "outputId": "bb1515b7-065b-43ec-9e75-8f83cefb9839"
      },
      "outputs": [
        {
          "output_type": "stream",
          "name": "stdout",
          "text": [
            "Mounted at /content/drive\n"
          ]
        }
      ],
      "source": [
        "from google.colab import drive\n",
        "drive.mount('/content/drive')"
      ]
    },
    {
      "cell_type": "code",
      "execution_count": null,
      "metadata": {
        "id": "enFL_i1EG3_r"
      },
      "outputs": [],
      "source": [
        "import os\n",
        "os.chdir('/content/drive/MyDrive/MolGen/stable_version')"
      ]
    },
    {
      "cell_type": "code",
      "execution_count": null,
      "metadata": {
        "id": "4POmPZknGW5Q"
      },
      "outputs": [],
      "source": [
        "import torch\n",
        "import numpy as np\n",
        "import pandas as pd\n",
        "import pickle as pi\n",
        "from rdkit import Chem\n",
        "from model import MolGen\n",
        "import matplotlib.pyplot as plt"
      ]
    },
    {
      "cell_type": "code",
      "execution_count": null,
      "metadata": {
        "id": "ZS6j4GLRGW5d",
        "colab": {
          "base_uri": "https://localhost:8080/",
          "height": 235
        },
        "outputId": "50cc9def-90cc-44ad-d6d1-4426c8c5b58d"
      },
      "outputs": [
        {
          "output_type": "error",
          "ename": "NameError",
          "evalue": "ignored",
          "traceback": [
            "\u001b[0;31m---------------------------------------------------------------------------\u001b[0m",
            "\u001b[0;31mNameError\u001b[0m                                 Traceback (most recent call last)",
            "\u001b[0;32m<ipython-input-1-a1d0d7c43506>\u001b[0m in \u001b[0;36m<module>\u001b[0;34m\u001b[0m\n\u001b[1;32m      6\u001b[0m \u001b[0;34m\u001b[0m\u001b[0m\n\u001b[1;32m      7\u001b[0m \u001b[0;31m# data = pd.read_csv(\"database_final_all_100smb_kekule.csv\")\u001b[0m\u001b[0;34m\u001b[0m\u001b[0;34m\u001b[0m\u001b[0;34m\u001b[0m\u001b[0m\n\u001b[0;32m----> 8\u001b[0;31m \u001b[0mdata\u001b[0m \u001b[0;34m=\u001b[0m \u001b[0mpd\u001b[0m\u001b[0;34m.\u001b[0m\u001b[0mread_csv\u001b[0m\u001b[0;34m(\u001b[0m\u001b[0;34m\"concatenated_smiles.csv\"\u001b[0m\u001b[0;34m)\u001b[0m\u001b[0;34m\u001b[0m\u001b[0;34m\u001b[0m\u001b[0m\n\u001b[0m\u001b[1;32m      9\u001b[0m \u001b[0mx\u001b[0m \u001b[0;34m=\u001b[0m \u001b[0mdata\u001b[0m\u001b[0;34m[\u001b[0m\u001b[0;34m\"smiles\"\u001b[0m\u001b[0;34m]\u001b[0m\u001b[0;34m\u001b[0m\u001b[0;34m\u001b[0m\u001b[0m\n\u001b[1;32m     10\u001b[0m \u001b[0;34m\u001b[0m\u001b[0m\n",
            "\u001b[0;31mNameError\u001b[0m: name 'pd' is not defined"
          ]
        }
      ],
      "source": [
        "# load data\n",
        "# data = []\n",
        "# with open('qm9.csv', \"r\") as f:\n",
        "#     for line in f.readlines()[1:]:\n",
        "#         data.append(line.split(\",\")[1])\n",
        "\n",
        "# data = pd.read_csv(\"database_final_all_100smb_kekule.csv\")\n",
        "data = pd.read_csv(\"concatenated_smiles.csv\")\n",
        "x = data[\"smiles\"]\n",
        "\n",
        "clf = pi.load(open(\"clf.pkl\", \"rb\"))\n",
        "\n",
        "# create model\n",
        "gan_mol = MolGen(x, classifier=clf, hidden_dim=128, lr=5e-4, device=\"cuda\")"
      ]
    },
    {
      "cell_type": "markdown",
      "metadata": {
        "id": "xbgvHRL4GW5g"
      },
      "source": [
        "### Pre-train GAN on CHEMBL"
      ]
    },
    {
      "cell_type": "code",
      "execution_count": null,
      "metadata": {
        "id": "bCHXixYVGW5k"
      },
      "outputs": [],
      "source": [
        "# create dataloader\n",
        "loader = gan_mol.create_dataloader(x, batch_size=64, shuffle=True, num_workers=4)\n",
        "\n",
        "# initial training for discriminator\n",
        "initial_history = gan_mol.initial_train_n_steps(loader, max_step=2000, evaluate_every=50)"
      ]
    },
    {
      "cell_type": "code",
      "execution_count": null,
      "metadata": {
        "id": "BgPX3kynGW5p"
      },
      "outputs": [],
      "source": [
        "# stop GAN training\n",
        "gan_mol.eval()\n",
        "print('ok')\n",
        "\n",
        "# save the model weights\n",
        "torch.save(gan_mol.state_dict(), \"initial_discr_mol_gan_new.pt\")"
      ]
    },
    {
      "cell_type": "markdown",
      "metadata": {
        "id": "YfTDcwtgfFeG"
      },
      "source": [
        "### Plot GAN Discriminator inital training loss"
      ]
    },
    {
      "cell_type": "code",
      "execution_count": null,
      "metadata": {
        "id": "ldbdCo0HfEmh"
      },
      "outputs": [],
      "source": [
        "steps = np.arange(len(initial_history[\"loss_disc\"]))\n",
        "plt.plot(steps, initial_history[\"loss_disc\"], label=\"Initial discriminator loss\")\n",
        "plt.legend(loc=\"upper right\")\n",
        "plt.xlabel(\"steps\")\n",
        "plt.ylabel(\"loss\")\n",
        "plt.grid(True)\n",
        "plt.show()"
      ]
    },
    {
      "cell_type": "code",
      "execution_count": null,
      "metadata": {
        "id": "grOcbZ4weoMT"
      },
      "outputs": [],
      "source": [
        "# train model for 10000 steps\n",
        "\n",
        "# set GAN to the training mode\n",
        "# gan_mol.train()\n",
        "\n",
        "# load initially trained discriminator weights\n",
        "gan_mol = MolGen(x, clf, hidden_dim=64, lr=1e-4, device=\"cuda\")\n",
        "gan_mol.load_state_dict(torch.load(\"initial_discr_mol_gan.pt\"))\n",
        "\n",
        "# create dataloader\n",
        "loader = gan_mol.create_dataloader(x, batch_size=64, shuffle=True, num_workers=4)\n",
        "\n",
        "pretrain_history = gan_mol.train_n_steps(loader, max_step=5000, evaluate_every=50)"
      ]
    },
    {
      "cell_type": "code",
      "execution_count": null,
      "metadata": {
        "id": "118Bj6FEe0um"
      },
      "outputs": [],
      "source": [
        "# stop GAN training\n",
        "gan_mol.eval()\n",
        "print('ok')\n",
        "\n",
        "# stop model training and save the model weights\n",
        "torch.save(gan_mol.state_dict(), \"pretrain_mol_gan.pt\")"
      ]
    },
    {
      "cell_type": "markdown",
      "metadata": {
        "id": "XBeAOfH2GW5s"
      },
      "source": [
        "### Generate Smiles molecules"
      ]
    },
    {
      "cell_type": "code",
      "execution_count": null,
      "metadata": {
        "id": "gHo6xI1lTj-b"
      },
      "outputs": [],
      "source": [
        "from rdkit.Chem import PandasTools\n",
        "from tensorboard.notebook import display\n",
        "from rdkit.Chem import Draw\n",
        "# After training\n",
        "smiles_list = gan_mol.generate_n(100)\n",
        "\n",
        "valid_smiles = []\n",
        "for mol in smiles_list:\n",
        "  if Chem.MolFromSmiles(mol) is not None:\n",
        "    valid_smiles.append(Chem.MolFromSmiles(mol))\n",
        "# df = pd.DataFrame(valid_smiles, columns=[\"smiles\"])\n",
        "valid_smiles"
      ]
    },
    {
      "cell_type": "code",
      "execution_count": null,
      "metadata": {
        "id": "l9NrJSaUU0EW"
      },
      "outputs": [],
      "source": [
        "Draw.MolsToGridImage(valid_smiles, molsPerRow=5)"
      ]
    },
    {
      "cell_type": "markdown",
      "metadata": {
        "id": "srZo-8htGW5y"
      },
      "source": [
        "### Plot GAN pre-training loss"
      ]
    },
    {
      "cell_type": "code",
      "execution_count": null,
      "metadata": {
        "id": "BxYMR5LzVNaO"
      },
      "outputs": [],
      "source": [
        "pretrain_history.keys()"
      ]
    },
    {
      "cell_type": "code",
      "execution_count": null,
      "metadata": {
        "id": "SdC5HiF6GW50"
      },
      "outputs": [],
      "source": [
        "steps = np.arange(len(pretrain_history[\"loss_disc\"][:1000]))\n",
        "plt.plot(steps, pretrain_history[\"loss_disc\"][:1000], label=\"discriminator loss\")\n",
        "plt.plot(steps, pretrain_history[\"loss_gen\"][:1000], label=\"generator loss\")\n",
        "plt.legend(loc=\"upper right\")\n",
        "plt.xlabel(\"steps\")\n",
        "plt.ylabel(\"loss\")\n",
        "plt.grid(True)\n",
        "plt.show()"
      ]
    },
    {
      "cell_type": "markdown",
      "metadata": {
        "id": "dlfIpRCzGW51"
      },
      "source": [
        "### Train GAN on coformers"
      ]
    },
    {
      "cell_type": "code",
      "execution_count": null,
      "metadata": {
        "id": "aSd84EeZGW52"
      },
      "outputs": [],
      "source": [
        "import warnings\n",
        "warnings.filterwarnings(\"ignore\")\n",
        "\n",
        "coformer_data = pd.read_csv(\"database_cof_100smb_kekule.csv\")\n",
        "coformer_x = coformer_data[\"smiles\"]\n",
        "\n",
        "clf = pi.load(open(\"clf.pkl\", \"rb\"))\n",
        "\n",
        "gan_mol = MolGen(coformer_x, classifier=clf, hidden_dim=64, lr=1e-3, device=\"cpu\")\n",
        "gan_mol.load_state_dict(torch.load(\"pretrained_mol_gan.pt\"))\n",
        "\n",
        "# set GAN to the training mode\n",
        "gan_mol.train()\n",
        "\n",
        "coformer_loader = gan_mol.create_dataloader(coformer_x, batch_size=128, shuffle=True, num_workers=4)\n",
        "\n",
        "coformer_history = gan_mol.train_n_steps_coformer(coformer_loader, max_step=5000, evaluate_every=50)"
      ]
    },
    {
      "cell_type": "code",
      "execution_count": null,
      "metadata": {
        "id": "bfOU0resGW53"
      },
      "outputs": [],
      "source": [
        "# save coformer trained GAN\n",
        "torch.save(gan_mol.state_dict(), \"coformer_trained_gan_mol.pt\")"
      ]
    },
    {
      "cell_type": "markdown",
      "metadata": {
        "id": "Be5m3D5_GW54"
      },
      "source": [
        "### Generate Smiles molecules"
      ]
    },
    {
      "cell_type": "code",
      "execution_count": null,
      "metadata": {
        "id": "XmUoFRt3GW54"
      },
      "outputs": [],
      "source": [
        "# After training\n",
        "smiles_list = gan_mol.generate_n(8)\n",
        "\n",
        "# convert with rdkit\n",
        "mol_list = [Chem.MolFromSmiles(m) for m in smiles_list]\n",
        "\n",
        "# draw\n",
        "Chem.Draw.MolsToGridImage(mol_list, molsPerRow=4, subImgSize=(250, 250), maxMols=10)"
      ]
    },
    {
      "cell_type": "markdown",
      "metadata": {
        "id": "IdpsXhc0GW55"
      },
      "source": [
        "### Plot GAN coformer training loss"
      ]
    },
    {
      "cell_type": "code",
      "execution_count": null,
      "metadata": {
        "id": "tnbFMpI8GW55"
      },
      "outputs": [],
      "source": [
        "steps = len(coformer_history[\"loss_discr\"])\n",
        "plt.plot(steps, coformer_history[\"loss_discr\"], label=\"discriminator loss\")\n",
        "plt.plot(steps, coformer_history[\"loss_gen\"], label=\"generator loss\")\n",
        "plt.legend(loc=\"upper right\")\n",
        "plt.xlabel(\"steps\")\n",
        "plt.ylabel(\"loss\")\n",
        "plt.grid(True)\n",
        "plt.show()"
      ]
    }
  ],
  "metadata": {
    "colab": {
      "machine_shape": "hm",
      "provenance": [],
      "include_colab_link": true
    },
    "gpuClass": "standard",
    "kernelspec": {
      "display_name": "cheml",
      "language": "python",
      "name": "python3"
    },
    "language_info": {
      "codemirror_mode": {
        "name": "ipython",
        "version": 3
      },
      "file_extension": ".py",
      "mimetype": "text/x-python",
      "name": "python",
      "nbconvert_exporter": "python",
      "pygments_lexer": "ipython3",
      "version": "3.8.15"
    },
    "vscode": {
      "interpreter": {
        "hash": "9a823354c1b58a1fc958a4ddcbba8e1ce2f53be2bee94ae58ffd9530ee8c23d3"
      }
    },
    "accelerator": "GPU"
  },
  "nbformat": 4,
  "nbformat_minor": 0
}